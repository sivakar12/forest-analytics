{
  "cells": [
    {
      "cell_type": "code",
      "execution_count": null,
      "metadata": {
        "id": "4z3mNhjO-B2g"
      },
      "outputs": [],
      "source": [
        "import pandas as pd\n",
        "from datetime import timedelta\n",
        "import matplotlib.pyplot as plt\n",
        "import pytz\n",
        "import calendar"
      ]
    },
    {
      "cell_type": "code",
      "execution_count": null,
      "metadata": {
        "colab": {
          "base_uri": "https://localhost:8080/"
        },
        "id": "e46T_UoR9W8W",
        "outputId": "7b3079ae-f53f-4f6f-f7c4-497f9541b223"
      },
      "outputs": [],
      "source": [
        "df = pd.read_csv('forest-of-sivakar.csv')\n",
        "print(df.tail())\n"
      ]
    },
    {
      "cell_type": "markdown",
      "metadata": {
        "id": "JvuAVgsi-I_S"
      },
      "source": [
        "# Preprocessing"
      ]
    },
    {
      "cell_type": "code",
      "execution_count": null,
      "metadata": {
        "colab": {
          "base_uri": "https://localhost:8080/"
        },
        "id": "X4sPvnlW_Mi3",
        "outputId": "53544679-31a2-454d-b618-376c6103e181"
      },
      "outputs": [],
      "source": [
        "# Drop unnecessary columns\n",
        "columns_to_drop = ['Note', 'Tree Type', 'Is Success']\n",
        "df = df.drop(columns=columns_to_drop)\n",
        "\n",
        "\n",
        "def parse_timestamp(ts):\n",
        "    dt = pd.to_datetime(ts, format='%a %b %d %H:%M:%S GMT%z %Y')\n",
        "    return dt.tz_convert(pytz.timezone('Asia/Kolkata'))\n",
        "\n",
        "def split_at_midnight(row):\n",
        "    start = row['Start Time']\n",
        "    end = row['End Time']\n",
        "\n",
        "    local_tz = start.tz\n",
        "    midnight = (start + timedelta(days=1)).replace(hour=0, minute=0, second=0, microsecond=0)\n",
        "\n",
        "    if start.date() != end.date():\n",
        "        first_half = pd.Series({\n",
        "            'Start Time': start,\n",
        "            'End Time': (midnight - timedelta(seconds=1)).tz_convert(local_tz)\n",
        "        })\n",
        "\n",
        "        second_half = pd.Series({\n",
        "            'Start Time': midnight.tz_convert(local_tz),\n",
        "            'End Time': end\n",
        "        })\n",
        "\n",
        "        return [first_half, second_half]\n",
        "\n",
        "    return [row]\n",
        "\n",
        "# Parse timestamps\n",
        "df['Start Time'] = df['Start Time'].apply(parse_timestamp)\n",
        "df['End Time'] = df['End Time'].apply(parse_timestamp)\n",
        "\n",
        "# Apply the split_at_midnight function and explode the result\n",
        "split_rows = []\n",
        "for _, row in df.iterrows():\n",
        "    split_rows.extend(split_at_midnight(row))\n",
        "df = pd.DataFrame(split_rows)\n",
        "df.reset_index()\n",
        "\n",
        "# Display the first few rows of the processed dataframe\n",
        "print(df.head(10))\n",
        "\n",
        "# Optionally, save the processed data to a new CSV file\n",
        "# df.to_csv('processed_data.csv', index=False)"
      ]
    },
    {
      "cell_type": "code",
      "execution_count": null,
      "metadata": {
        "colab": {
          "base_uri": "https://localhost:8080/"
        },
        "id": "WVH7UBJdEALA",
        "outputId": "5faefce9-12ad-49a5-ff4e-750ca27c3728"
      },
      "outputs": [],
      "source": [
        "df.info()"
      ]
    },
    {
      "cell_type": "code",
      "execution_count": null,
      "metadata": {
        "id": "aXxLAS5ZCxoz"
      },
      "outputs": [],
      "source": [
        "# Calculate duration for each entry\n",
        "df['Duration'] = df['End Time'] - df['Start Time']"
      ]
    },
    {
      "cell_type": "markdown",
      "metadata": {
        "id": "2CVlzEqLHjqh"
      },
      "source": [
        "# Analytics"
      ]
    },
    {
      "cell_type": "markdown",
      "metadata": {
        "id": "qTeisgnOHmIi"
      },
      "source": [
        "## Total Time Each Year"
      ]
    },
    {
      "cell_type": "code",
      "execution_count": null,
      "metadata": {
        "colab": {
          "base_uri": "https://localhost:8080/"
        },
        "id": "6SFM9xV2Cv_4",
        "outputId": "a243ad24-bc60-4531-ffe5-c720979a4940"
      },
      "outputs": [],
      "source": [
        "\n",
        "# Extract year from Start Time\n",
        "df['Year'] = df['Start Time'].dt.year\n",
        "\n",
        "# Group by year and sum the durations, then convert to hours\n",
        "yearly_totals = df.groupby('Year')['Duration'].sum().dt.total_seconds() / 3600\n",
        "\n",
        "# Round the hours to 2 decimal places\n",
        "yearly_totals = yearly_totals.round(2)\n",
        "\n",
        "# The result is now a Series with Year as index and Total Hours as values\n",
        "print(yearly_totals)"
      ]
    },
    {
      "cell_type": "code",
      "execution_count": null,
      "metadata": {
        "colab": {
          "base_uri": "https://localhost:8080/",
          "height": 489
        },
        "id": "qK3Kh5TfFZxa",
        "outputId": "08499aaa-dfb2-4537-933b-f31e45f27c5b"
      },
      "outputs": [],
      "source": [
        "yearly_totals.plot.bar()"
      ]
    },
    {
      "cell_type": "markdown",
      "metadata": {
        "id": "2JgNwd4NHYkp"
      },
      "source": [
        "## Total Time Each Month"
      ]
    },
    {
      "cell_type": "code",
      "execution_count": null,
      "metadata": {
        "colab": {
          "base_uri": "https://localhost:8080/"
        },
        "id": "CtlLiBnPFbl_",
        "outputId": "4bb8f9f5-0848-49b5-802c-fd21746a704c"
      },
      "outputs": [],
      "source": [
        "# Extract year and month from Start Time\n",
        "df['Year-Month'] = df['Start Time'].dt.to_period('M')\n",
        "\n",
        "# Group by year-month and sum the durations, then convert to hours\n",
        "monthly_totals = df.groupby('Year-Month')['Duration'].sum().dt.total_seconds() / 3600\n",
        "\n",
        "# Round the hours to 2 decimal places\n",
        "monthly_totals = monthly_totals.round(2)\n",
        "\n",
        "# The result is now a Series with Year-Month as index and Total Hours as values\n",
        "print(monthly_totals)"
      ]
    },
    {
      "cell_type": "code",
      "execution_count": null,
      "metadata": {
        "colab": {
          "base_uri": "https://localhost:8080/",
          "height": 230
        },
        "id": "v4Gqf-7BGMOe",
        "outputId": "3fa8923c-2950-4df0-e665-6f5138a4923d"
      },
      "outputs": [],
      "source": [
        "# Set up the plot\n",
        "plt.figure(figsize=(20, 6))  # Adjust the width (20) and height (6) as needed\n",
        "\n",
        "# Create a color map for years\n",
        "years = monthly_totals.index.year.unique()\n",
        "color_map = plt.colormaps['tab10']  # You can change 'tab10' to other color maps\n",
        "colors = {year: color_map(i/len(years)) for i, year in enumerate(years)}\n",
        "\n",
        "# Create lists to hold x-positions and colors for each bar\n",
        "x_positions = []\n",
        "bar_colors = []\n",
        "labels = []\n",
        "\n",
        "# Prepare data for plotting\n",
        "for i, (date, value) in enumerate(monthly_totals.items()):\n",
        "    month = date.month\n",
        "    year = date.year\n",
        "    x_positions.append(month + (year - min(years)) * 12)\n",
        "    bar_colors.append(colors[year])\n",
        "    labels.append(f\"{calendar.month_abbr[month]}\\n{year}\")\n",
        "\n",
        "# Plot bars\n",
        "plt.bar(x_positions, monthly_totals.values, color=bar_colors, width=0.8)\n",
        "\n",
        "# Customize the plot\n",
        "plt.title('Total Hours per Month', fontsize=16)\n",
        "plt.xlabel('Month-Year', fontsize=12)\n",
        "plt.ylabel('Total Hours', fontsize=12)\n",
        "plt.xticks(x_positions, labels, rotation=45, ha='right')\n",
        "\n",
        "# Add legend\n",
        "for year in years:\n",
        "    plt.bar(0, 0, color=colors[year], label=str(year))\n",
        "plt.legend(title='Year', bbox_to_anchor=(1.05, 1), loc='upper left')\n",
        "\n",
        "plt.tight_layout()\n",
        "\n",
        "# Show the plot\n",
        "plt.show()"
      ]
    },
    {
      "cell_type": "markdown",
      "metadata": {
        "id": "JyJ3GUlkHs7v"
      },
      "source": [
        "## Distribution of Daily Totals"
      ]
    },
    {
      "cell_type": "code",
      "execution_count": null,
      "metadata": {
        "colab": {
          "base_uri": "https://localhost:8080/"
        },
        "id": "er770NeAH0N4",
        "outputId": "4b4ef024-fbfb-4582-94d4-74b76870de08"
      },
      "outputs": [],
      "source": [
        "# Extract date from Start Time\n",
        "df['Date'] = df['Start Time'].dt.date\n",
        "\n",
        "# Group by date and sum the durations, then convert to minutes\n",
        "daily_totals = df.groupby('Date')['Duration'].sum().dt.total_seconds() / 3600\n",
        "\n",
        "# Round the minutes to 2 decimal places\n",
        "daily_totals = daily_totals.round(2)\n",
        "\n",
        "# The result is now a Series with Date as index and Total Minutes as values\n",
        "print(daily_totals.tail())"
      ]
    },
    {
      "cell_type": "code",
      "execution_count": null,
      "metadata": {
        "colab": {
          "base_uri": "https://localhost:8080/",
          "height": 376
        },
        "id": "u5MQpHPLH1WX",
        "outputId": "2f6bb32c-9460-4ac5-981c-33730d41cc05"
      },
      "outputs": [],
      "source": [
        "plt.figure(figsize=(12, 6))\n",
        "\n",
        "plt.hist(daily_totals, bins=range(0, int(daily_totals.max()) + 2, 1),\n",
        "         edgecolor='black', align='left')\n",
        "\n",
        "plt.title('Distribution of Daily Total Hours', fontsize=16)\n",
        "plt.xlabel('Hours', fontsize=12)\n",
        "plt.ylabel('Frequency', fontsize=12)\n",
        "\n",
        "plt.xticks(range(0, int(daily_totals.max()) + 2, 1))\n",
        "\n",
        "plt.grid(axis='y', linestyle='--', alpha=0.7)\n",
        "\n",
        "plt.tight_layout()\n",
        "plt.show()"
      ]
    },
    {
      "cell_type": "markdown",
      "metadata": {
        "id": "NSxpzEZsI2LG"
      },
      "source": [
        "# Analytics by Tags"
      ]
    },
    {
      "cell_type": "code",
      "execution_count": null,
      "metadata": {
        "colab": {
          "base_uri": "https://localhost:8080/",
          "height": 429
        },
        "id": "dYZi10CVI7wz",
        "outputId": "26811d63-3524-45bb-81d1-c21ec8d8d752"
      },
      "outputs": [],
      "source": [
        "tags_counts = df['Tag'].value_counts()\n",
        "tags_counts.head(10)"
      ]
    },
    {
      "cell_type": "code",
      "execution_count": null,
      "metadata": {
        "colab": {
          "base_uri": "https://localhost:8080/",
          "height": 613
        },
        "id": "DYAOorFmI8WO",
        "outputId": "4d5d4bb4-339b-431d-863e-c214997dbc84"
      },
      "outputs": [],
      "source": [
        "tags_counts.plot.bar()"
      ]
    },
    {
      "cell_type": "code",
      "execution_count": null,
      "metadata": {
        "id": "GPBC1wHFJUky"
      },
      "outputs": [],
      "source": []
    }
  ],
  "metadata": {
    "colab": {
      "provenance": []
    },
    "kernelspec": {
      "display_name": "Python 3",
      "name": "python3"
    },
    "language_info": {
      "name": "python"
    }
  },
  "nbformat": 4,
  "nbformat_minor": 0
}
